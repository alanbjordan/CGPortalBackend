{
 "cells": [
  {
   "cell_type": "code",
   "execution_count": 10,
   "metadata": {},
   "outputs": [],
   "source": [
    "import os\n",
    "from openai import OpenAI\n",
    "OPENAI_API_KEY = os.getenv(\"OPENAI_API_KEY\")\n",
    "client = OpenAI(api_key=OPENAI_API_KEY)"
   ]
  },
  {
   "cell_type": "code",
   "execution_count": 13,
   "metadata": {},
   "outputs": [
    {
     "name": "stdout",
     "output_type": "stream",
     "text": [
      "Streaming partial response:\n",
      "\n",
      "Sure! Here you go:\n",
      "\n",
      "1, 2, 3, 4, 5, 6, 7, 8, 9, 10, 11, 12, 13, 14, 15, 16, 17, 18, 19, 20, 21, 22, 23, 24, 25, 26, 27, 28, 29, 30, 31, 32, 33, 34, 35, 36, 37, 38, 39, 40, 41, 42, 43, 44, 45, 46, 47, 48, 49, 50, 51, 52, 53, 54, 55, 56, 57, 58, 59, 60, 61, 62, 63, 64, 65, 66, 67, 68, 69, 70, 71, 72, 73, 74, 75, 76, 77, 78, 79, 80, 81, 82, 83, 84, 85, 86, 87, 88, 89, 90, 91, 92, 93, 94, 95, 96, 97, 98, 99, 100\n",
      "\n",
      "---\n",
      "Done streaming!\n",
      "Usage info from the final chunk:\n",
      "CompletionUsage(completion_tokens=305, prompt_tokens=23, total_tokens=328, completion_tokens_details=CompletionTokensDetails(audio_tokens=0, reasoning_tokens=0, accepted_prediction_tokens=0, rejected_prediction_tokens=0), prompt_tokens_details=PromptTokensDetails(audio_tokens=0, cached_tokens=0))\n",
      "\n",
      "Full final text:\n",
      " Sure! Here you go:\n",
      "\n",
      "1, 2, 3, 4, 5, 6, 7, 8, 9, 10, 11, 12, 13, 14, 15, 16, 17, 18, 19, 20, 21, 22, 23, 24, 25, 26, 27, 28, 29, 30, 31, 32, 33, 34, 35, 36, 37, 38, 39, 40, 41, 42, 43, 44, 45, 46, 47, 48, 49, 50, 51, 52, 53, 54, 55, 56, 57, 58, 59, 60, 61, 62, 63, 64, 65, 66, 67, 68, 69, 70, 71, 72, 73, 74, 75, 76, 77, 78, 79, 80, 81, 82, 83, 84, 85, 86, 87, 88, 89, 90, 91, 92, 93, 94, 95, 96, 97, 98, 99, 100\n"
     ]
    }
   ],
   "source": [
    "\n",
    "# Streaming call to gpt-4o\n",
    "response = client.chat.completions.create(\n",
    "    model=\"gpt-4o\",  # or \"gpt-4\" or whatever model name you've been provided\n",
    "    messages=[\n",
    "        {\"role\": \"user\", \"content\": \"Hello GPT-4O! Please count to 100, separated by commas.\"}\n",
    "    ],\n",
    "    temperature=0.0,\n",
    "    stream=True,\n",
    "    stream_options={\"include_usage\": True},\n",
    ")\n",
    "\n",
    "collected_text = \"\"\n",
    "usage_info = None\n",
    "\n",
    "print(\"Streaming partial response:\\n\")\n",
    "for chunk in response:\n",
    "    # chunk is an OpenAI 'ChatCompletionChunk'\n",
    "    # chunk.choices is a list (usually length 1)\n",
    "    if chunk.choices and len(chunk.choices) > 0:\n",
    "        choice_delta = chunk.choices[0].delta\n",
    "        if hasattr(choice_delta, \"content\") and choice_delta.content is not None:\n",
    "            print(choice_delta.content, end=\"\")\n",
    "            collected_text += choice_delta.content\n",
    "\n",
    "    # The usage field appears only in the final chunk\n",
    "    if chunk.usage is not None:\n",
    "        usage_info = chunk.usage\n",
    "\n",
    "print(\"\\n\\n---\\nDone streaming!\")\n",
    "if usage_info:\n",
    "    print(\"Usage info from the final chunk:\")\n",
    "    print(usage_info)\n",
    "else:\n",
    "    print(\"No usage info found (did 'include_usage' not work?).\")\n",
    "\n",
    "print(\"\\nFull final text:\\n\", collected_text)\n"
   ]
  }
 ],
 "metadata": {
  "kernelspec": {
   "display_name": "NER",
   "language": "python",
   "name": "python3"
  },
  "language_info": {
   "codemirror_mode": {
    "name": "ipython",
    "version": 3
   },
   "file_extension": ".py",
   "mimetype": "text/x-python",
   "name": "python",
   "nbconvert_exporter": "python",
   "pygments_lexer": "ipython3",
   "version": "3.10.14"
  }
 },
 "nbformat": 4,
 "nbformat_minor": 2
}
